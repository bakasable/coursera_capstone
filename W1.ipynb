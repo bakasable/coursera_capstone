{
 "cells": [
  {
   "cell_type": "markdown",
   "metadata": {},
   "source": [
    "# Week 1\n",
    "\n",
    "This is week one of the [Applied Data Science Capstone](https://www.coursera.org/learn/applied-data-science-capstone/home/welcome)\n",
    "\n",
    "From the Introduction:\n",
    "\n",
    "> So what you will learn to do is given a city\n",
    "like the City of Toronto, you will segment it into different\n",
    "neighborhoods using the geographical coordinates of the center of each\n",
    "neighborhood, and then using a combination of location data and machine\n",
    "learning, you will group the neighbourhoods into clusters like this.\n",
    "So in summary, this capstone course will consist of five modules. In the first\n",
    "three modules, I hope to equip you with all the additional skills you need so\n",
    "that in the remaining two modules you will be able to work on something\n",
    "exciting of your own creativity. You will be required to leverage location data to\n",
    "solve a problem or to get deeper insights into a neighborhood's reputation."
   ]
  },
  {
   "cell_type": "code",
   "execution_count": 2,
   "metadata": {},
   "outputs": [],
   "source": [
    "import pandas as pd"
   ]
  },
  {
   "cell_type": "code",
   "execution_count": 3,
   "metadata": {},
   "outputs": [],
   "source": [
    "import numpy as np"
   ]
  },
  {
   "cell_type": "code",
   "execution_count": 4,
   "metadata": {},
   "outputs": [
    {
     "name": "stdout",
     "output_type": "stream",
     "text": [
      "Hello Capstone Project Course!\n"
     ]
    }
   ],
   "source": [
    "print(\"Hello Capstone Project Course!\")"
   ]
  }
 ],
 "metadata": {
  "kernelspec": {
   "display_name": "IBMDataSCience",
   "language": "python",
   "name": "ibmdatascience"
  },
  "language_info": {
   "codemirror_mode": {
    "name": "ipython",
    "version": 3
   },
   "file_extension": ".py",
   "mimetype": "text/x-python",
   "name": "python",
   "nbconvert_exporter": "python",
   "pygments_lexer": "ipython3",
   "version": "3.8.3"
  }
 },
 "nbformat": 4,
 "nbformat_minor": 4
}
